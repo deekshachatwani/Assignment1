{
 "cells": [
  {
   "cell_type": "code",
   "execution_count": 15,
   "id": "f7b713ca-9e0c-4d5d-a1c5-fc10b1e9a3cd",
   "metadata": {},
   "outputs": [
    {
     "name": "stdin",
     "output_type": "stream",
     "text": [
      "Enter the 1st value: 23\n",
      "Enter the 2nd value: 12\n"
     ]
    },
    {
     "name": "stdout",
     "output_type": "stream",
     "text": [
      "1st number is Greater\n"
     ]
    }
   ],
   "source": [
    "Digit = input(\"Enter the 1st value:\")\n",
    "Digit2 = input(\"Enter the 2nd value:\")\n",
    "if Digit > Digit2:\n",
    "    print(\"1st number is Greater\")\n",
    "elif Digit < Digit2:\n",
    "    print(\"2nd number is Greater\")\n",
    "else:\n",
    "    print(\"Numbers are equal\")"
   ]
  },
  {
   "cell_type": "code",
   "execution_count": null,
   "id": "804fb575-6e3c-4d4c-ad86-7c059064e160",
   "metadata": {},
   "outputs": [],
   "source": []
  }
 ],
 "metadata": {
  "kernelspec": {
   "display_name": "Python 3 (ipykernel)",
   "language": "python",
   "name": "python3"
  },
  "language_info": {
   "codemirror_mode": {
    "name": "ipython",
    "version": 3
   },
   "file_extension": ".py",
   "mimetype": "text/x-python",
   "name": "python",
   "nbconvert_exporter": "python",
   "pygments_lexer": "ipython3",
   "version": "3.10.8"
  }
 },
 "nbformat": 4,
 "nbformat_minor": 5
}
